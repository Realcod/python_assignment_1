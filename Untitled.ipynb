{
 "cells": [
  {
   "cell_type": "code",
   "execution_count": 6,
   "id": "70025b4f-85f7-4774-8bee-5e748f2ffb60",
   "metadata": {},
   "outputs": [],
   "source": [
    "#Assignment 1 Solutions"
   ]
  },
  {
   "cell_type": "raw",
   "id": "df864390-771f-4e7f-9aaa-37e2428f7299",
   "metadata": {},
   "source": [
    "#Q1) Explain the key features of Python that make it a popular choice of programming?\n",
    "It is a free and open source language.\n",
    "It is easy to code .\n",
    "It is a high-level programming language.\n",
    "It is easy to read.\n",
    "This language is object-oriented.\n",
    "It has large community support.\n",
    "It is portable."
   ]
  },
  {
   "cell_type": "code",
   "execution_count": 2,
   "id": "93243c22-e34b-4259-8697-f347f9e24d30",
   "metadata": {},
   "outputs": [
    {
     "name": "stdout",
     "output_type": "stream",
     "text": [
      "Adult\n"
     ]
    }
   ],
   "source": [
    "#Describe the role of predefined keywords in python and provide examples of how they are used in a program.\n",
    "\n",
    "#Predefined keywords are reserved words which play a very crucial role in programming because they are defining its structure and syntax. They cannot be used as identifiers.\n",
    "\n",
    "# b) It provides the flow of a program . \n",
    "\n",
    "# c) It provides the definition of function.\n",
    "\n",
    "# d) It provides the variable definition.\n",
    "\n",
    "# e) It helps in exception handling.\n",
    "\n",
    "# f) It helps in solving boolean operations.\n",
    "\n",
    "age = 20\n",
    "if age < 18:\n",
    "     print(\"Minor\") \n",
    "elif age == 18: \n",
    "     print(\"Just became an adult\") \n",
    "else: \n",
    "     print(\"Adult\")\n",
    "\n"
   ]
  },
  {
   "cell_type": "code",
   "execution_count": 3,
   "id": "07e73d3f-a853-46db-b360-b8e45390d3b9",
   "metadata": {},
   "outputs": [
    {
     "name": "stdout",
     "output_type": "stream",
     "text": [
      "True\n",
      "False\n"
     ]
    }
   ],
   "source": [
    "is_active = True \n",
    "is_admin = False\n",
    "print(is_active)\n",
    "print(is_admin)"
   ]
  },
  {
   "cell_type": "code",
   "execution_count": 4,
   "id": "d2cb428d-1b31-463a-9f35-127f3ceab22e",
   "metadata": {},
   "outputs": [
    {
     "name": "stdout",
     "output_type": "stream",
     "text": [
      "[1, 10, 3, 4]\n",
      "List after append: [1, 10, 3, 4, 4]\n",
      "Original dictionary: {'name': 'Alice', 'age': 25}\n",
      "Modified dictionary: {'name': 'Alice', 'age': 25}\n",
      "Dictionary after adding a new key: {'name': 'Alice', 'age': 25, 'city': 'Wonderland'}\n"
     ]
    }
   ],
   "source": [
    "#Q3) Compare and contrast mutable and immutable objects in python with examples?\n",
    "#Mutable Objects:\n",
    "\"\"\" It means content can be changed after they are created.\n",
    "Example: Lists, dictionaries and sets.\n",
    "They allow in memory modifications. \"\"\"\n",
    "\n",
    "a=[1,2,3,4]\n",
    "a[1]=10\n",
    "print(a)\n",
    "\n",
    "a.append(4) \n",
    "print(\"List after append:\", a)\n",
    "\n",
    "my_dict = {'name': 'Alice', 'age': 25} \n",
    "print(\"Original dictionary:\", my_dict)\n",
    "\n",
    "# Modifying the dictionary my_dict['age'] = 26 \n",
    "print(\"Modified dictionary:\", my_dict) \n",
    "\n",
    "# Adding a new key-value pair \n",
    "my_dict['city'] = 'Wonderland' \n",
    "print(\"Dictionary after adding a new key:\", my_dict)\n"
   ]
  },
  {
   "cell_type": "code",
   "execution_count": 5,
   "id": "84a74607-7609-4d8d-afe8-8a22a32c15fe",
   "metadata": {},
   "outputs": [
    {
     "name": "stdout",
     "output_type": "stream",
     "text": [
      "Original string: hello\n",
      "New string after replace: jello\n",
      "Original string remains unchanged: hello\n",
      "Original tuple: (1, 2, 3)\n",
      "New tuple after addition: (1, 2, 3, 4)\n",
      "Original tuple remains unchanged: (1, 2, 3)\n"
     ]
    }
   ],
   "source": [
    "#Immutable Objects:\n",
    "#It means content cannot be changed after they are created.\n",
    "#Examples: Strings , Tuples etc.\n",
    "\n",
    "#Less memory efficient.\n",
    "\n",
    "# String (immutable)\n",
    "my_string = \"hello\"\n",
    "print(\"Original string:\", my_string)\n",
    "\n",
    "#Trying to change\n",
    "new_string = my_string.replace('h', 'j')\n",
    "print(\"New string after replace:\", new_string)\n",
    "print(\"Original string remains unchanged:\", my_string)\n",
    "\n",
    "# Tuple (immutable)\n",
    "my_tuple = (1, 2, 3)\n",
    "print(\"Original tuple:\", my_tuple)\n",
    "\n",
    "# Attempting to modify the tuple creates a new tuple\n",
    "new_tuple = my_tuple + (4,)\n",
    "print(\"New tuple after addition:\", new_tuple)\n",
    "print(\"Original tuple remains unchanged:\", my_tuple)\n"
   ]
  },
  {
   "cell_type": "code",
   "execution_count": null,
   "id": "7144dd98-5e7c-44d8-92a2-4b5d0d911b63",
   "metadata": {},
   "outputs": [],
   "source": [
    "#Q4) Discuss the different types of operators in Python and provide examples of how they are used?\n",
    "\"\"\"Operators are used to perform some calculations.\n",
    "\n",
    "There are different type of operators: \n",
    "Arithmetic Operators\n",
    "Logical Operators\n",
    "Bitwise Operators\n",
    "Assignment Operators\n",
    "Comparison Operators\n",
    "Identity Operators\n",
    "Membership Operators \"\"\"\n"
   ]
  },
  {
   "cell_type": "code",
   "execution_count": 8,
   "id": "6f53f7f8-398b-4d55-b662-3180f33a55b3",
   "metadata": {},
   "outputs": [
    {
     "name": "stdout",
     "output_type": "stream",
     "text": [
      "14\n",
      "6\n",
      "40\n",
      "2.5\n",
      "2\n",
      "32\n",
      "2\n"
     ]
    }
   ],
   "source": [
    "# Arithmetic Operators\n",
    "\n",
    "#Addition\n",
    "a=10+4\n",
    "print(a)\n",
    "\n",
    "#Subtraction\n",
    "a=10-4\n",
    "print(a)\n",
    "\n",
    "#Multiplication\n",
    "a=10*4\n",
    "print(a)\n",
    "\n",
    "#Division\n",
    "a=10/4\n",
    "print(a)\n",
    "\n",
    "#Remainder\n",
    "a=10%4\n",
    "print(a)\n",
    "\n",
    "#Exponentian\n",
    "a=2**5\n",
    "print(a)\n",
    "\n",
    "#Floor Division\n",
    "a=10//4\n",
    "print(a)\n",
    "\n"
   ]
  },
  {
   "cell_type": "code",
   "execution_count": 11,
   "id": "898c3246-9e88-4014-bf25-7d6ce4398276",
   "metadata": {},
   "outputs": [
    {
     "name": "stdout",
     "output_type": "stream",
     "text": [
      "False\n",
      "False\n",
      "True\n"
     ]
    }
   ],
   "source": [
    "#Logical Operators\n",
    "a=5 \n",
    "b=2\n",
    "\n",
    "print(a>5 and b>10)\n",
    "print(a>5 or b>10)\n",
    "print(not a>5)\n"
   ]
  },
  {
   "cell_type": "code",
   "execution_count": 13,
   "id": "156e52c0-4110-43c9-ac72-b2700d027f3a",
   "metadata": {},
   "outputs": [
    {
     "name": "stdout",
     "output_type": "stream",
     "text": [
      "5\n",
      "False\n",
      "True\n",
      "False\n",
      "True\n",
      "True\n",
      "False\n"
     ]
    }
   ],
   "source": [
    "#Comparison Operators\n",
    "\n",
    "a=5\n",
    "print(a)\n",
    "\n",
    "print(a>5)\n",
    "print(a>=5)\n",
    "print(a<5)\n",
    "print(a<=5)\n",
    "print(a==5)\n",
    "print(a!=5)\n"
   ]
  },
  {
   "cell_type": "code",
   "execution_count": 15,
   "id": "007400f7-ffa2-48bd-b2cc-ddddd77f20a0",
   "metadata": {},
   "outputs": [
    {
     "data": {
      "text/plain": [
       "True"
      ]
     },
     "execution_count": 15,
     "metadata": {},
     "output_type": "execute_result"
    }
   ],
   "source": [
    "#Membership operators\n",
    "a=\"Yash Jain\"\n",
    "\"Y\" in a\n"
   ]
  },
  {
   "cell_type": "code",
   "execution_count": 16,
   "id": "4db03330-7242-469f-82a4-84d1924ae882",
   "metadata": {},
   "outputs": [
    {
     "data": {
      "text/plain": [
       "True"
      ]
     },
     "execution_count": 16,
     "metadata": {},
     "output_type": "execute_result"
    }
   ],
   "source": [
    "#Identity operators\n",
    "a=2\n",
    "b=a\n",
    "a is b\n"
   ]
  },
  {
   "cell_type": "code",
   "execution_count": 19,
   "id": "9fe5c519-d375-4cf8-95cd-9840c046506d",
   "metadata": {},
   "outputs": [
    {
     "name": "stdout",
     "output_type": "stream",
     "text": [
      "0\n",
      "13\n",
      "0\n",
      "4096\n",
      "13\n"
     ]
    }
   ],
   "source": [
    "#Bitwise Operators\n",
    "x=1\n",
    "y=12\n",
    "\n",
    "#Bitwise and\n",
    "print(x&y)\n",
    "\n",
    "#Bitwise or\n",
    "print(x | y)\n",
    "\n",
    "#bitwise right\n",
    "print(x>>y)\n",
    "\n",
    "#Bitwise left\n",
    "print(x<<y)\n",
    "\n",
    "#Bitwise xor\n",
    "print(x^y)\n"
   ]
  },
  {
   "cell_type": "code",
   "execution_count": 20,
   "id": "0598e2ed-deba-46cc-9676-4229a6adedbe",
   "metadata": {},
   "outputs": [
    {
     "name": "stdout",
     "output_type": "stream",
     "text": [
      "4\n",
      "9\n",
      "5\n",
      "1.0\n",
      "1.0\n"
     ]
    }
   ],
   "source": [
    "#Assignment Operators\n",
    "a=4\n",
    "\n",
    "print(a)\n",
    "a+=5\n",
    "print(a)\n",
    "\n",
    "a-=4\n",
    "print(a)\n",
    "\n",
    "a/=5\n",
    "print(a)\n",
    "\n",
    "a%=6\n",
    "print(a)"
   ]
  },
  {
   "cell_type": "code",
   "execution_count": 22,
   "id": "0c4693b4-82cb-4f24-920e-f24f269b5f45",
   "metadata": {},
   "outputs": [
    {
     "ename": "TypeError",
     "evalue": "can only concatenate str (not \"int\") to str",
     "output_type": "error",
     "traceback": [
      "\u001b[0;31m---------------------------------------------------------------------------\u001b[0m",
      "\u001b[0;31mTypeError\u001b[0m                                 Traceback (most recent call last)",
      "Cell \u001b[0;32mIn[22], line 5\u001b[0m\n\u001b[1;32m      3\u001b[0m a\u001b[38;5;241m=\u001b[39m\u001b[38;5;124m\"\u001b[39m\u001b[38;5;124m2\u001b[39m\u001b[38;5;124m\"\u001b[39m\n\u001b[1;32m      4\u001b[0m b\u001b[38;5;241m=\u001b[39m\u001b[38;5;241m3\u001b[39m\n\u001b[0;32m----> 5\u001b[0m \u001b[43ma\u001b[49m\u001b[38;5;241;43m+\u001b[39;49m\u001b[43mb\u001b[49m\n",
      "\u001b[0;31mTypeError\u001b[0m: can only concatenate str (not \"int\") to str"
     ]
    }
   ],
   "source": [
    "#Q5) Explain the concept of type casting in python with examples?\n",
    "#The process of changing the data type of a value/object\n",
    "a=\"2\"\n",
    "b=3\n",
    "a+b\n"
   ]
  },
  {
   "cell_type": "code",
   "execution_count": 23,
   "id": "b8b2fa0d-6884-4bfb-be2e-bf16919a466f",
   "metadata": {},
   "outputs": [
    {
     "data": {
      "text/plain": [
       "5"
      ]
     },
     "execution_count": 23,
     "metadata": {},
     "output_type": "execute_result"
    }
   ],
   "source": [
    "int(a)+b\n"
   ]
  },
  {
   "cell_type": "code",
   "execution_count": 24,
   "id": "daeb9897-de57-4d9d-9962-bef0a63be390",
   "metadata": {},
   "outputs": [
    {
     "data": {
      "text/plain": [
       "int"
      ]
     },
     "execution_count": 24,
     "metadata": {},
     "output_type": "execute_result"
    }
   ],
   "source": [
    "b = 6.78\n",
    "type(b)\n",
    "\n"
   ]
  },
  {
   "cell_type": "code",
   "execution_count": 25,
   "id": "ebf55d52-f342-4d62-adf0-3899553f2558",
   "metadata": {},
   "outputs": [
    {
     "data": {
      "text/plain": [
       "int"
      ]
     },
     "execution_count": 25,
     "metadata": {},
     "output_type": "execute_result"
    }
   ],
   "source": [
    "float_value = int(b)\n",
    "type(float_value)\n"
   ]
  },
  {
   "cell_type": "code",
   "execution_count": 26,
   "id": "106883b8-d557-4092-b866-2b6a983995b2",
   "metadata": {},
   "outputs": [
    {
     "data": {
      "text/plain": [
       "int"
      ]
     },
     "execution_count": 26,
     "metadata": {},
     "output_type": "execute_result"
    }
   ],
   "source": [
    "#integer to float\n",
    "a = 2\n",
    "type(a)"
   ]
  },
  {
   "cell_type": "code",
   "execution_count": 27,
   "id": "69674855-e563-4f03-8d57-03c824114fa5",
   "metadata": {},
   "outputs": [
    {
     "data": {
      "text/plain": [
       "2.0"
      ]
     },
     "execution_count": 27,
     "metadata": {},
     "output_type": "execute_result"
    }
   ],
   "source": [
    "b = float(a)\n",
    "b\n"
   ]
  },
  {
   "cell_type": "code",
   "execution_count": 28,
   "id": "31ef09ac-0a2b-4da0-9ea7-274b5a67a0d2",
   "metadata": {},
   "outputs": [
    {
     "data": {
      "text/plain": [
       "str"
      ]
     },
     "execution_count": 28,
     "metadata": {},
     "output_type": "execute_result"
    }
   ],
   "source": [
    "#string to float\n",
    "a = \"2.3\"\n",
    "type(a)"
   ]
  },
  {
   "cell_type": "code",
   "execution_count": 29,
   "id": "8d6a7b03-d1da-4b50-9965-9c728188eb76",
   "metadata": {},
   "outputs": [
    {
     "data": {
      "text/plain": [
       "float"
      ]
     },
     "execution_count": 29,
     "metadata": {},
     "output_type": "execute_result"
    }
   ],
   "source": [
    "b = float(a)\n",
    "type(b)"
   ]
  },
  {
   "cell_type": "code",
   "execution_count": 30,
   "id": "d480e1fb-0795-4ebc-9627-096b6b4308cd",
   "metadata": {},
   "outputs": [
    {
     "data": {
      "text/plain": [
       "int"
      ]
     },
     "execution_count": 30,
     "metadata": {},
     "output_type": "execute_result"
    }
   ],
   "source": [
    "#implicit typecasting >> python understand the datatype\n",
    "a = 5\n",
    "type(a)"
   ]
  },
  {
   "cell_type": "code",
   "execution_count": 31,
   "id": "9894e467-9e5a-4b42-b958-fc2d8a0482b4",
   "metadata": {},
   "outputs": [
    {
     "name": "stdout",
     "output_type": "stream",
     "text": [
      "7.3\n"
     ]
    },
    {
     "data": {
      "text/plain": [
       "float"
      ]
     },
     "execution_count": 31,
     "metadata": {},
     "output_type": "execute_result"
    }
   ],
   "source": [
    "a=5+2.3\n",
    "print(a)\n",
    "type(a)"
   ]
  },
  {
   "cell_type": "code",
   "execution_count": 32,
   "id": "749304dc-8d53-44b3-af5a-01de8ee3dae7",
   "metadata": {},
   "outputs": [
    {
     "name": "stdout",
     "output_type": "stream",
     "text": [
      "The number is grater than 0.\n"
     ]
    }
   ],
   "source": [
    "# Q 6) How do conditional statements work in Python? Illustrate with examples?\n",
    "a = 100\n",
    "if a > 0: #execute the if bock, if the condition is True\n",
    "    print(\"The number is grater than 0.\")"
   ]
  },
  {
   "cell_type": "code",
   "execution_count": 34,
   "id": "bcb7c4d1-03da-46e4-84eb-4522c94db4b9",
   "metadata": {},
   "outputs": [
    {
     "name": "stdout",
     "output_type": "stream",
     "text": [
      "This is the number of interest\n"
     ]
    }
   ],
   "source": [
    "number = 42\n",
    "if ((number % 2 == 0) & (number > 0)):\n",
    "    print(\"This is the number of interest\")"
   ]
  },
  {
   "cell_type": "code",
   "execution_count": 35,
   "id": "69c62d17-079c-4898-8f1e-e0e0e9c74c8f",
   "metadata": {},
   "outputs": [
    {
     "name": "stdout",
     "output_type": "stream",
     "text": [
      "I will play cricket\n"
     ]
    }
   ],
   "source": [
    "weather = \"sunny\"\n",
    "if weather == \"sunny\": #condition is true, execute if block\n",
    "    print(\"I will play cricket\")\n",
    "else:#condition is not true, else block will be executed\n",
    "    print(\"I will watch TV\")"
   ]
  },
  {
   "cell_type": "code",
   "execution_count": 39,
   "id": "1d2e84f8-dca9-4853-b979-a04c0611c0f2",
   "metadata": {},
   "outputs": [
    {
     "name": "stdout",
     "output_type": "stream",
     "text": [
      "The number is equals to 100\n"
     ]
    }
   ],
   "source": [
    "a = 100\n",
    "if a > 100:\n",
    "    print(\"This block will be executed if a is greater than 100\")\n",
    "elif a < 100:\n",
    "    print(\"This block will be executed if a is lesser than 100\")\n",
    "else:\n",
    "    print(\"The number is equals to 100\")"
   ]
  },
  {
   "cell_type": "code",
   "execution_count": 40,
   "id": "1e690090-3f7e-4f41-9e43-ab16ad212355",
   "metadata": {},
   "outputs": [
    {
     "name": "stdout",
     "output_type": "stream",
     "text": [
      "1\n",
      "2\n",
      "3\n",
      "4\n",
      "5\n",
      "6\n"
     ]
    }
   ],
   "source": [
    "#Q7) Describe the different types of loops in Python and their use cases with examples?\n",
    "n = 7\n",
    "i = 1\n",
    "while i < n:\n",
    "    print(i)\n",
    "    i = i+1"
   ]
  },
  {
   "cell_type": "code",
   "execution_count": 41,
   "id": "7e19e14e-3e65-4158-96a8-103d838fb1c8",
   "metadata": {},
   "outputs": [
    {
     "name": "stdout",
     "output_type": "stream",
     "text": [
      "1\n",
      "2\n",
      "3\n",
      "4\n",
      "5\n",
      "6\n",
      "This will be executed when the while is run successfuly without any break\n"
     ]
    }
   ],
   "source": [
    "n = 7\n",
    "i = 1\n",
    "while i < n:\n",
    "    print(i)\n",
    "    i = i+1\n",
    "else:\n",
    "    print(\"This will be executed when the while is run successfuly without any break\")"
   ]
  },
  {
   "cell_type": "code",
   "execution_count": 42,
   "id": "f6a29bc2-76d5-4fc5-a3a0-f4e8a446912f",
   "metadata": {},
   "outputs": [
    {
     "name": "stdout",
     "output_type": "stream",
     "text": [
      "1\n",
      "2\n"
     ]
    }
   ],
   "source": [
    "n = 7\n",
    "i = 1\n",
    "while i < n:\n",
    "    print(i)\n",
    "    i = i+1\n",
    "    if i == 3:\n",
    "        break\n",
    "else:\n",
    "    print(\"This will be executed when the while is run successfuly without any break\")"
   ]
  },
  {
   "cell_type": "code",
   "execution_count": 43,
   "id": "a18c7901-cf41-4ac5-a8bd-76fa624e9e46",
   "metadata": {},
   "outputs": [
    {
     "name": "stdout",
     "output_type": "stream",
     "text": [
      "y\n",
      "a\n",
      "s\n",
      "h\n"
     ]
    }
   ],
   "source": [
    "for i in \"yash\":\n",
    "    print(i)"
   ]
  },
  {
   "cell_type": "code",
   "execution_count": null,
   "id": "f7d32ec3-a259-49eb-9d7c-a44b993ec347",
   "metadata": {},
   "outputs": [],
   "source": []
  }
 ],
 "metadata": {
  "kernelspec": {
   "display_name": "Python 3 (ipykernel)",
   "language": "python",
   "name": "python3"
  },
  "language_info": {
   "codemirror_mode": {
    "name": "ipython",
    "version": 3
   },
   "file_extension": ".py",
   "mimetype": "text/x-python",
   "name": "python",
   "nbconvert_exporter": "python",
   "pygments_lexer": "ipython3",
   "version": "3.10.8"
  }
 },
 "nbformat": 4,
 "nbformat_minor": 5
}
